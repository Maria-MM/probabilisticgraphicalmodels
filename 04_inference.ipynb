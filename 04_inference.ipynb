{
 "cells": [
  {
   "cell_type": "markdown",
   "metadata": {
    "collapsed": true
   },
   "source": [
    "# Conditional Probability Queries"
   ]
  },
  {
   "cell_type": "markdown",
   "metadata": {},
   "source": [
    "### A. Problem Description"
   ]
  },
  {
   "cell_type": "markdown",
   "metadata": {},
   "source": [
    "* **a. Describing Problem**\n",
    "\n",
    "    * Evidence: $E=e$\n",
    "    * Query: A subset of variables $Y$\n",
    "    * Task: Compute $P(Y|E=e)$\n",
    "    \n",
    "* **b. Procedure**\n",
    "\n",
    "    * Expressing computation task\n",
    "        * $ P(Y|E=e) = \\frac{P(Y,E=e)}{P(E=e)} $\n",
    "    * Numerator    \n",
    "        * $P(Y,E=e) = \\sum_WP(Y,W,E=e) = \\sum_W\\frac{1}{Z}\\prod_k\\phi_k(D_k,E=e)$, where $W=\\{X_1,...,X_n\\} - Y - E$ (i.e. nonquery and nonevidence variables).\n",
    "        * Renormalization: $P(Y,E=e) = ... \\propto \\sum_W\\prod_k\\phi_k^{'}(D_k^{'})$ then renormalizing by computing $Z$ (note, $\\phi_k^{'}(D_k^{'})$ are E!=e eliminated reduced factors).\n",
    "        * NB: summing-out is usually intractable, if the number of variables is large.\n",
    "    * Denominator\n",
    "        * $P(E=e) = \\sum_Y\\sum_W\\frac{1}{Z}\\phi_k^{'}(D_k^{'})$"
   ]
  },
  {
   "cell_type": "markdown",
   "metadata": {},
   "source": [
    "### B. General Algorithms"
   ]
  },
  {
   "cell_type": "markdown",
   "metadata": {},
   "source": [
    "* **a. Variable Elimination** (EXACT)\n",
    "\n",
    "* **b. Belief Propagation & Variational Approximations** (EXACT, APPROX)\n",
    "\n",
    "* **c. Random Sampling Instantiations (MCMC, Importance Sampling)** (APPROX)"
   ]
  },
  {
   "cell_type": "markdown",
   "metadata": {},
   "source": [
    "### C. Maximum a Posteriori (MAP)"
   ]
  },
  {
   "cell_type": "markdown",
   "metadata": {},
   "source": [
    "* **a. Describing Task**\n",
    "\n",
    "    * Evidence: $E=e$\n",
    "    * Query: All the rest of the variables $Y$, for $Y=\\{X_1,...,X_n\\}-E$\n",
    "    * Task: Compute $MAP(Y|E=e) = argmax_yP(Y=y|E=e)$ (i.e. given $E=e$, assignments of $Y$s that maximizes the probability $P(Y|E=e)$)\n",
    "    * NB: there may be more than 1 possible solution.\n",
    "\n",
    "* **b. Application E.G.**\n",
    "\n",
    "    * Message Decoding: most likely message given some pieces.\n",
    "    * Image Segmentation: most liely segmentation (i.e. assignments of pixels to classes).\n",
    "    \n",
    "* **c. Max-Product Approach**\n",
    "\n",
    "    * $ P(Y|E=e) = \\frac{P(Y,E=e)}{P(E=e)} \\propto P(Y,E=e)$\n",
    "    * $ P(Y,E=e) = \\frac{1}{Z}\\prod_k\\phi_k^{'}(D_k^{'}) \\propto \\prod_k\\phi_k^{'}(D_k^{'}) $, where the product is of the reduced factors wrt. the evidence.\n",
    "    * $ argmax_YP(Y|E=e) = argmax_Y\\prod_k\\phi_k^{'}(D_k^{'}) $"
   ]
  },
  {
   "cell_type": "markdown",
   "metadata": {},
   "source": [
    "# Variable Elimination"
   ]
  },
  {
   "cell_type": "markdown",
   "metadata": {},
   "source": [
    "**Objective: ** Efficiently compute some joint/conditional probability."
   ]
  },
  {
   "cell_type": "markdown",
   "metadata": {
    "collapsed": true
   },
   "source": [
    "### A. Chain VE"
   ]
  },
  {
   "cell_type": "code",
   "execution_count": 1,
   "metadata": {
    "collapsed": true
   },
   "outputs": [],
   "source": [
    "#\n",
    "#     A --- B --- C --- D --- E \n",
    "#      "
   ]
  },
  {
   "cell_type": "markdown",
   "metadata": {
    "collapsed": true
   },
   "source": [
    "** No evidence **\n",
    "\n",
    "** Query: ** $ P(E) $ \n",
    "\n",
    "$ P(E) \\propto \\sum_D\\sum_C\\sum_B\\sum_A \\hat{P}(A,B,C,D,E) $\n",
    "\n",
    "$ = \\sum_D\\sum_C\\sum_B\\sum_A \\phi_1(A,B)\\phi_2(B,C)\\phi_3(C,D)\\phi_4(D,E) $ <= Factorization\n",
    "\n",
    "$ = \\sum_D\\sum_C\\sum_B \\phi_2(B,C)\\phi_3(C,D)\\phi_4(D,E) \\sum_A \\phi_1(A,B) $ <= Eliminate A\n",
    "\n",
    "$ = \\sum_D\\sum_C\\sum_B \\phi_2(B,C)\\phi_3(C,D)\\phi_4(D,E)\\tau_1(B) $\n",
    "\n",
    "$ = \\sum_D\\sum_C \\phi_3(C,D)\\phi_4(D,E) \\sum_B \\phi_2(B,C)\\tau_1(B) $ <= Eliminate B\n",
    "\n",
    "$ = \\sum_D\\sum_C \\phi_3(C,D)\\phi_4(D,E)\\tau_2(C) $\n",
    "\n",
    "$ = \\sum_D \\phi_4(D,E) \\sum_C \\phi_3(C,D)\\tau_2(C) $ <= Eliminate C\n",
    "\n",
    "$ = \\sum_D \\phi_4(D,E)\\tau_3(D) $ <= Eliminate D\n",
    "\n",
    "$ = \\tau_4(E) $ <= Compute P(E)"
   ]
  },
  {
   "cell_type": "markdown",
   "metadata": {
    "collapsed": true
   },
   "source": [
    "### B. Non-Chain VE "
   ]
  },
  {
   "cell_type": "code",
   "execution_count": null,
   "metadata": {
    "collapsed": true
   },
   "outputs": [],
   "source": [
    "#   C\n",
    "#   |_\n",
    "#   D     I\n",
    "#    \\_ /_ \\_\n",
    "#     G    S\n",
    "#    / |_  |\n",
    "#   /  L   |\n",
    "#  /_   \\_ |_\n",
    "# H |_____J"
   ]
  },
  {
   "cell_type": "markdown",
   "metadata": {
    "collapsed": true
   },
   "source": [
    "** a. No Evidence **\n",
    "\n",
    "** Query: ** $P(J)$\n",
    "\n",
    "$ P(J) \\propto \\sum_{L,S,G,H,I,D,C} \\phi_J(J,L,S)\\phi_L(L,G)\\phi_S(S,I)\\phi_G(G,I,D)\\phi_H(H,G,J)\\phi_I(I)\\phi_D(C,D)\\phi_C(C) $\n",
    "\n",
    "$ = ... $  <= Elimination Order: $C\\rightarrow D\\rightarrow I\\rightarrow H\\rightarrow G\\rightarrow S\\rightarrow L$\n",
    "\n",
    "$ = \\tau_k(J) $"
   ]
  },
  {
   "cell_type": "markdown",
   "metadata": {
    "collapsed": true
   },
   "source": [
    "** b. Evidence **\n",
    "\n",
    "** Query 1 (Joint): ** $P(J,I=i,H=h)$\n",
    "\n",
    "$ P(J,I=i,H=h) \\propto \\sum_{L,S,G,H,I,D,C} \\phi_J(J,L,S)\\phi_L(L,G)\\phi_S(S,I)\\phi_G(G,I,D)\\phi_H(H,G,J)\\phi_I(I)\\phi_D(C,D)\\phi_C(C) $ <= Reduce Factors by Evidence\n",
    "\n",
    "$ = \\sum_{L,S,G,D,C} \\phi_J(J,L,S)\\phi_L(L,G)\\phi_S^{'}(S)\\phi_G^{'}(G,D)\\phi_H^{'}(G,J)\\phi_D(C,D)\\phi_C(C) $ <= Eliminate Variables As Before\n",
    "\n",
    "** Query 2 (Conditional): ** $P(J|I=i,H=h)$\n",
    "\n",
    "$ P(J|I=i,H=h) = \\frac{P(J,I=i,H=h)}{P(I=i,H=h)} $"
   ]
  },
  {
   "cell_type": "markdown",
   "metadata": {
    "collapsed": true
   },
   "source": [
    "### C. Elimination Ordering"
   ]
  },
  {
   "cell_type": "markdown",
   "metadata": {
    "collapsed": true
   },
   "source": [
    "** a. Complexity **\n",
    "\n",
    "* Complexity of VE is linear of\n",
    "    * Size of model\n",
    "    * Size of largest factor generated\n",
    "* Size of factor is exponential of its scope\n",
    "\n",
    "** b. Ordering **\n",
    "\n",
    "* Start from factors with smaller scopes.\n",
    "\n",
    "** c. Finding the Best Ordering **\n",
    "\n",
    "* The problem is NP-Complete, so we use *Heuristic Cost Function* instead: \n",
    "\n",
    "    * At each decision point, eliminate node with smallest cost.\n",
    "\n",
    "* Possible Cost Functions:\n",
    "\n",
    "    * Min-Neighbors: # neighbors in current graph.\n",
    "    * Min-Weight: weight (# of values) of factor formed.\n",
    "    * Min-Fill: Number of new filled edges.\n",
    "    * Weighted Min-Fill: Total weight of new filled edges (edge weight = product of weights of the 2 nodes)."
   ]
  },
  {
   "cell_type": "markdown",
   "metadata": {
    "collapsed": true
   },
   "source": [
    "### D. Moralization: BN $\\Rightarrow$ MN"
   ]
  },
  {
   "cell_type": "markdown",
   "metadata": {
    "collapsed": true
   },
   "source": [
    "**Method:** Add an edge between pairs of parents involved (A & B in the following example) in all V-structures (NB: V-structures can emerge in the process of VE).\n",
    "\n",
    "**Induced Graph:** *$X_i$ and $X_j$ are connected if they appeard in the same factor in a run of the VE algorithm (with a certain ordering $\\alpha$)*.\n",
    "\n",
    "* Induced Width: The width of an induced graph is the number of nodes in the largest clique in the graph minus 1.\n",
    "* Minimal Induced Width: The minimal induced width over all possible VE ordering $\\alpha$ on a graph $K$ (best performance).\n",
    "\n",
    "**Justification:** $\\phi(A,C)\\phi(B,C)$ in BN $\\Rightarrow \\phi(A,B,C)$ in MN."
   ]
  },
  {
   "cell_type": "code",
   "execution_count": null,
   "metadata": {
    "collapsed": true
   },
   "outputs": [],
   "source": [
    "#  A    B       A----B\n",
    "#   \\_ /_    =>  \\ /\n",
    "#     C           C"
   ]
  },
  {
   "cell_type": "markdown",
   "metadata": {
    "collapsed": true
   },
   "source": [
    "### E. Cliques"
   ]
  },
  {
   "cell_type": "markdown",
   "metadata": {},
   "source": [
    "**Definition: ** The maximal fully-connected subgraph involving a set of variables $\\{X_i,...,X_k\\}$.\n",
    "\n",
    "**Theorem a: ** Every factor produced during VE is a clique in the induced graph.\n",
    "\n",
    "**Theorem b: ** Every (maximal) clique in the induced graph is a factor produced during VE."
   ]
  },
  {
   "cell_type": "code",
   "execution_count": null,
   "metadata": {
    "collapsed": true
   },
   "outputs": [],
   "source": []
  },
  {
   "cell_type": "code",
   "execution_count": null,
   "metadata": {
    "collapsed": true
   },
   "outputs": [],
   "source": []
  },
  {
   "cell_type": "code",
   "execution_count": null,
   "metadata": {
    "collapsed": true
   },
   "outputs": [],
   "source": []
  },
  {
   "cell_type": "code",
   "execution_count": null,
   "metadata": {
    "collapsed": true
   },
   "outputs": [],
   "source": []
  },
  {
   "cell_type": "code",
   "execution_count": null,
   "metadata": {
    "collapsed": true
   },
   "outputs": [],
   "source": []
  }
 ],
 "metadata": {
  "kernelspec": {
   "display_name": "Python 2",
   "language": "python",
   "name": "python2"
  },
  "language_info": {
   "codemirror_mode": {
    "name": "ipython",
    "version": 2
   },
   "file_extension": ".py",
   "mimetype": "text/x-python",
   "name": "python",
   "nbconvert_exporter": "python",
   "pygments_lexer": "ipython2",
   "version": "2.7.11"
  }
 },
 "nbformat": 4,
 "nbformat_minor": 0
}
